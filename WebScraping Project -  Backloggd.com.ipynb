{
 "cells": [
  {
   "cell_type": "code",
   "execution_count": null,
   "id": "66840094",
   "metadata": {},
   "outputs": [],
   "source": [
    "#This project is "
   ]
  },
  {
   "cell_type": "code",
   "execution_count": 160,
   "id": "1a630e3a",
   "metadata": {},
   "outputs": [],
   "source": [
    "from bs4 import BeautifulSoup\n",
    "import pandas as pd\n",
    "import numpy as np\n",
    "import requests\n",
    "import regex as re\n",
    "from lxml import etree as et\n",
    "from itertools import repeat\n",
    "import csv\n",
    "import random\n",
    "import time\n",
    "from tqdm import tqdm_notebook\n",
    "import warnings\n",
    "warnings.filterwarnings('ignore')"
   ]
  },
  {
   "cell_type": "code",
   "execution_count": 161,
   "id": "413e7172",
   "metadata": {},
   "outputs": [],
   "source": [
    "header_list = [\"Mozilla/5.0 (Windows NT 6.3; Win64; x64) AppleWebKit/537.36 (KHTML, like Gecko) Chrome/84.0.4147.135 Safari/537.36 OPR/70.0.3728.178 (Edition Yx 01)\",\n",
    "               \"Mozilla/5.0 (Windows NT 6.1) AppleWebKit/537.36 (KHTML, like Gecko) Chrome/87.0.4255.0 Safari/537.36 Edg/87.0.634.0\",\n",
    "              \"Mozilla/5.0 (Linux; arm; Android 10; SM-A605FN) AppleWebKit/537.36 (KHTML, like Gecko) Chrome/84.0.4147.135 YaBrowser/20.8.0.174.00 Mobile Safari/537.36\"]\n",
    "\n",
    "base_url = 'https://www.backloggd.com/games/lib/popular?page='\n",
    "games_list = []\n",
    "d = 0"
   ]
  },
  {
   "cell_type": "code",
   "execution_count": 162,
   "id": "7fcd69ef",
   "metadata": {},
   "outputs": [
    {
     "data": {
      "application/vnd.jupyter.widget-view+json": {
       "model_id": "4f21ccca0251408492b1390534dac104",
       "version_major": 2,
       "version_minor": 0
      },
      "text/plain": [
       "  0%|          | 0/300 [00:00<?, ?it/s]"
      ]
     },
     "metadata": {},
     "output_type": "display_data"
    }
   ],
   "source": [
    "game_links = []\n",
    "\n",
    "for page_no in tqdm_notebook(range(300)):\n",
    "    page_url = base_url + str(page_no)\n",
    "    #print(page_url)\n",
    "    user_agent = random.choice(header_list)\n",
    "    header = {\"User-Agent\": user_agent}\n",
    "    webpage = requests.get(page_url, headers = header)\n",
    "    if webpage.status_code == 200:\n",
    "        soup1 = BeautifulSoup(webpage.content, 'html.parser')\n",
    "        soup2 = BeautifulSoup(soup1.prettify(), 'html.parser')\n",
    "        g = soup2.find('div', {'class' : 'row show-release toggle-fade'})\n",
    "        games = g.find_all('div', {'class' : 'col-2 my-2 px-1 px-md-2'})\n",
    "        game_ref = [game.find('a').get('href') for game in games]\n",
    "        game_links.extend(['https://www.backloggd.com' + ref for ref in game_ref])"
   ]
  },
  {
   "cell_type": "code",
   "execution_count": 163,
   "id": "32b55ee3",
   "metadata": {},
   "outputs": [
    {
     "name": "stdout",
     "output_type": "stream",
     "text": [
      "10764\n"
     ]
    }
   ],
   "source": [
    "print(len(game_links))"
   ]
  },
  {
   "cell_type": "code",
   "execution_count": 164,
   "id": "b48247ee",
   "metadata": {},
   "outputs": [],
   "source": [
    "cols = ['Title', 'Release Date', 'Team', 'Console', 'Rating', 'Times Listed', 'Numbers of Reviews', 'Genres', 'Summary', 'Plays', 'Playing', 'Backlogs', 'Wishlist']\n",
    "backloggd = pd.DataFrame(columns = cols)"
   ]
  },
  {
   "cell_type": "code",
   "execution_count": 165,
   "id": "dbc70e85",
   "metadata": {},
   "outputs": [
    {
     "data": {
      "application/vnd.jupyter.widget-view+json": {
       "model_id": "9cc10c11fa344678aab4cb425544a727",
       "version_major": 2,
       "version_minor": 0
      },
      "text/plain": [
       "  0%|          | 0/10764 [00:00<?, ?it/s]"
      ]
     },
     "metadata": {},
     "output_type": "display_data"
    }
   ],
   "source": [
    "for link in tqdm_notebook(game_links):\n",
    "    user_agent = random.choice(header_list)\n",
    "    header = {\"User-Agent\": user_agent}\n",
    "    webpage = requests.get(link, headers=header)\n",
    "    if webpage.status_code == 200:\n",
    "        soup1 = BeautifulSoup(webpage.content, 'html.parser')\n",
    "        soup2 = BeautifulSoup(soup1.prettify(), 'html.parser')\n",
    "        \n",
    "        title = soup2.find('div', {'class': 'col-auto pr-1'}).get_text().strip()\n",
    "        \n",
    "        release_date = ' '.join(soup2.find('div', {'class': 'col-auto mt-auto pr-0'}).get_text().strip().split()[-3:])\n",
    "        \n",
    "        try:\n",
    "            teams = soup2.find('div', {'class': 'col-auto pl-lg-1 sub-title'})\n",
    "            teams = teams.find_all('a')\n",
    "            teams = [i.get_text().strip() for i in teams]\n",
    "        except:\n",
    "            teams = np.nan\n",
    "            \n",
    "        try:\n",
    "            consoles = soup2.find('div', {'class': 'col-lg-4 mt-1 mt-lg-2 col-12'})\n",
    "            consoles = consoles.find_all('a', {'class':'game-page-platform'})\n",
    "            consoles = [console.get_text().strip() for console in consoles]\n",
    "        except:\n",
    "            consoles = np.nan\n",
    "        \n",
    "        try:\n",
    "            rating = float(soup2.find(id='score').get_text().strip()[-3:])\n",
    "        except:\n",
    "            rating = np.nan\n",
    "            \n",
    "        table = soup2.find_all('div', {'class': 'col-12 mb-1'})\n",
    "        feats = [f.get_text().strip().split('\\n')[0].strip() for f in table]\n",
    "        results = [r.get_text().strip().split('\\n')[-1].strip() for r in table]\n",
    "        \n",
    "        nlists = soup2.find('p', {'class' : 'game-page-sidecard'}).get_text().strip().split()[0]\n",
    "\n",
    "        nreviews = soup2.find('div', {'class' : 'col-5 col-xl-auto pl-1'}).get_text().strip().split()[0]\n",
    "        \n",
    "        genres = soup2.find_all('p', {'class': 'genre-tag'})\n",
    "        genres = [genre.get_text().strip() for genre in genres]\n",
    "\n",
    "        summary = soup2.find(id='collapseSummary').get_text().strip()\n",
    "\n",
    "        row = [title, release_date, teams, consoles, rating, nlists, nreviews, genres, summary]\n",
    "        row.extend(results)\n",
    "        backloggd.loc[len(backloggd.index)] = row \n"
   ]
  },
  {
   "cell_type": "code",
   "execution_count": 166,
   "id": "cf4c79e7",
   "metadata": {},
   "outputs": [
    {
     "data": {
      "text/html": [
       "<div>\n",
       "<style scoped>\n",
       "    .dataframe tbody tr th:only-of-type {\n",
       "        vertical-align: middle;\n",
       "    }\n",
       "\n",
       "    .dataframe tbody tr th {\n",
       "        vertical-align: top;\n",
       "    }\n",
       "\n",
       "    .dataframe thead th {\n",
       "        text-align: right;\n",
       "    }\n",
       "</style>\n",
       "<table border=\"1\" class=\"dataframe\">\n",
       "  <thead>\n",
       "    <tr style=\"text-align: right;\">\n",
       "      <th></th>\n",
       "      <th>Title</th>\n",
       "      <th>Release Date</th>\n",
       "      <th>Team</th>\n",
       "      <th>Console</th>\n",
       "      <th>Rating</th>\n",
       "      <th>Times Listed</th>\n",
       "      <th>Numbers of Reviews</th>\n",
       "      <th>Genres</th>\n",
       "      <th>Summary</th>\n",
       "      <th>Plays</th>\n",
       "      <th>Playing</th>\n",
       "      <th>Backlogs</th>\n",
       "      <th>Wishlist</th>\n",
       "    </tr>\n",
       "  </thead>\n",
       "  <tbody>\n",
       "    <tr>\n",
       "      <th>0</th>\n",
       "      <td>Elden Ring</td>\n",
       "      <td>Feb 25, 2022</td>\n",
       "      <td>[FromSoftware, Bandai Namco Entertainment]</td>\n",
       "      <td>[Windows PC, PlayStation 4, Xbox One, PlayStat...</td>\n",
       "      <td>4.5</td>\n",
       "      <td>4.8K</td>\n",
       "      <td>3.2K</td>\n",
       "      <td>[Adventure, RPG]</td>\n",
       "      <td>Elden Ring is a fantasy, action and open world...</td>\n",
       "      <td>23K</td>\n",
       "      <td>4.3K</td>\n",
       "      <td>6.3K</td>\n",
       "      <td>5.8K</td>\n",
       "    </tr>\n",
       "    <tr>\n",
       "      <th>1</th>\n",
       "      <td>The Legend of Zelda: Breath of the Wild</td>\n",
       "      <td>Mar 03, 2017</td>\n",
       "      <td>[Nintendo EPD Production Group No. 3, Nintendo]</td>\n",
       "      <td>[Wii U, Nintendo Switch]</td>\n",
       "      <td>4.4</td>\n",
       "      <td>5.3K</td>\n",
       "      <td>3.3K</td>\n",
       "      <td>[Adventure, Puzzle]</td>\n",
       "      <td>The Legend of Zelda: Breath of the Wild is the...</td>\n",
       "      <td>38K</td>\n",
       "      <td>3.3K</td>\n",
       "      <td>6K</td>\n",
       "      <td>3.1K</td>\n",
       "    </tr>\n",
       "    <tr>\n",
       "      <th>2</th>\n",
       "      <td>Hades</td>\n",
       "      <td>Dec 07, 2018</td>\n",
       "      <td>[Supergiant Games]</td>\n",
       "      <td>[Windows PC, Mac, PlayStation 4, Xbox One, Pla...</td>\n",
       "      <td>4.3</td>\n",
       "      <td>3.3K</td>\n",
       "      <td>2.3K</td>\n",
       "      <td>[Adventure, Brawler, Indie, RPG]</td>\n",
       "      <td>A rogue-lite hack and slash dungeon crawler in...</td>\n",
       "      <td>27K</td>\n",
       "      <td>3.8K</td>\n",
       "      <td>8K</td>\n",
       "      <td>4.2K</td>\n",
       "    </tr>\n",
       "    <tr>\n",
       "      <th>3</th>\n",
       "      <td>The Legend of Zelda: Tears of the Kingdom</td>\n",
       "      <td>May 12, 2023</td>\n",
       "      <td>[Nintendo, Nintendo EPD Production Group No. 3]</td>\n",
       "      <td>[Nintendo Switch]</td>\n",
       "      <td>4.6</td>\n",
       "      <td>2.3K</td>\n",
       "      <td>1.8K</td>\n",
       "      <td>[Adventure]</td>\n",
       "      <td>The Legend of Zelda: Tears of the Kingdom is t...</td>\n",
       "      <td>7K</td>\n",
       "      <td>5.5K</td>\n",
       "      <td>3.7K</td>\n",
       "      <td>5.6K</td>\n",
       "    </tr>\n",
       "    <tr>\n",
       "      <th>4</th>\n",
       "      <td>Hollow Knight</td>\n",
       "      <td>Feb 24, 2017</td>\n",
       "      <td>[Team Cherry]</td>\n",
       "      <td>[Windows PC, Mac, Linux, Nintendo Switch]</td>\n",
       "      <td>4.4</td>\n",
       "      <td>3.6K</td>\n",
       "      <td>2.3K</td>\n",
       "      <td>[Adventure, Indie, Platform]</td>\n",
       "      <td>A 2D metroidvania with an emphasis on close co...</td>\n",
       "      <td>27K</td>\n",
       "      <td>2.9K</td>\n",
       "      <td>11K</td>\n",
       "      <td>2.8K</td>\n",
       "    </tr>\n",
       "  </tbody>\n",
       "</table>\n",
       "</div>"
      ],
      "text/plain": [
       "                                       Title  Release Date  \\\n",
       "0                                 Elden Ring  Feb 25, 2022   \n",
       "1    The Legend of Zelda: Breath of the Wild  Mar 03, 2017   \n",
       "2                                      Hades  Dec 07, 2018   \n",
       "3  The Legend of Zelda: Tears of the Kingdom  May 12, 2023   \n",
       "4                              Hollow Knight  Feb 24, 2017   \n",
       "\n",
       "                                              Team  \\\n",
       "0       [FromSoftware, Bandai Namco Entertainment]   \n",
       "1  [Nintendo EPD Production Group No. 3, Nintendo]   \n",
       "2                               [Supergiant Games]   \n",
       "3  [Nintendo, Nintendo EPD Production Group No. 3]   \n",
       "4                                    [Team Cherry]   \n",
       "\n",
       "                                             Console  Rating Times Listed  \\\n",
       "0  [Windows PC, PlayStation 4, Xbox One, PlayStat...     4.5         4.8K   \n",
       "1                           [Wii U, Nintendo Switch]     4.4         5.3K   \n",
       "2  [Windows PC, Mac, PlayStation 4, Xbox One, Pla...     4.3         3.3K   \n",
       "3                                  [Nintendo Switch]     4.6         2.3K   \n",
       "4          [Windows PC, Mac, Linux, Nintendo Switch]     4.4         3.6K   \n",
       "\n",
       "  Numbers of Reviews                            Genres  \\\n",
       "0               3.2K                  [Adventure, RPG]   \n",
       "1               3.3K               [Adventure, Puzzle]   \n",
       "2               2.3K  [Adventure, Brawler, Indie, RPG]   \n",
       "3               1.8K                       [Adventure]   \n",
       "4               2.3K      [Adventure, Indie, Platform]   \n",
       "\n",
       "                                             Summary Plays Playing Backlogs  \\\n",
       "0  Elden Ring is a fantasy, action and open world...   23K    4.3K     6.3K   \n",
       "1  The Legend of Zelda: Breath of the Wild is the...   38K    3.3K       6K   \n",
       "2  A rogue-lite hack and slash dungeon crawler in...   27K    3.8K       8K   \n",
       "3  The Legend of Zelda: Tears of the Kingdom is t...    7K    5.5K     3.7K   \n",
       "4  A 2D metroidvania with an emphasis on close co...   27K    2.9K      11K   \n",
       "\n",
       "  Wishlist  \n",
       "0     5.8K  \n",
       "1     3.1K  \n",
       "2     4.2K  \n",
       "3     5.6K  \n",
       "4     2.8K  "
      ]
     },
     "execution_count": 166,
     "metadata": {},
     "output_type": "execute_result"
    }
   ],
   "source": [
    "backloggd.head()"
   ]
  },
  {
   "cell_type": "code",
   "execution_count": 167,
   "id": "39a54920",
   "metadata": {},
   "outputs": [],
   "source": [
    "backloggd.to_csv('backloggd.csv')"
   ]
  },
  {
   "cell_type": "code",
   "execution_count": null,
   "id": "51105aaf",
   "metadata": {},
   "outputs": [],
   "source": []
  }
 ],
 "metadata": {
  "kernelspec": {
   "display_name": "Python 3 (ipykernel)",
   "language": "python",
   "name": "python3"
  },
  "language_info": {
   "codemirror_mode": {
    "name": "ipython",
    "version": 3
   },
   "file_extension": ".py",
   "mimetype": "text/x-python",
   "name": "python",
   "nbconvert_exporter": "python",
   "pygments_lexer": "ipython3",
   "version": "3.10.9"
  }
 },
 "nbformat": 4,
 "nbformat_minor": 5
}
